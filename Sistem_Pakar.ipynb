{
  "nbformat": 4,
  "nbformat_minor": 0,
  "metadata": {
    "colab": {
      "provenance": [],
      "mount_file_id": "1eVAhF13mYl-EUKFWlC3g9emu_3VRWGtq",
      "authorship_tag": "ABX9TyOVGpqfY1nAGhDW7kYOCJrp",
      "include_colab_link": true
    },
    "kernelspec": {
      "name": "python3",
      "display_name": "Python 3"
    },
    "language_info": {
      "name": "python"
    }
  },
  "cells": [
    {
      "cell_type": "markdown",
      "metadata": {
        "id": "view-in-github",
        "colab_type": "text"
      },
      "source": [
        "<a href=\"https://colab.research.google.com/github/pndlghn/Sistem-Pakar/blob/main/Sistem_Pakar.ipynb\" target=\"_parent\"><img src=\"https://colab.research.google.com/assets/colab-badge.svg\" alt=\"Open In Colab\"/></a>"
      ]
    },
    {
      "cell_type": "code",
      "execution_count": 12,
      "metadata": {
        "colab": {
          "base_uri": "https://localhost:8080/"
        },
        "id": "R3_QwCP_5OaN",
        "outputId": "85283ec8-cd35-4f9b-ab33-4daf43c723d2"
      },
      "outputs": [
        {
          "output_type": "stream",
          "name": "stdout",
          "text": [
            "Requirement already satisfied: frozendict in /usr/local/lib/python3.11/dist-packages (1.2)\n",
            "Collecting frozendict\n",
            "  Downloading frozendict-2.4.6-py311-none-any.whl.metadata (23 kB)\n",
            "Downloading frozendict-2.4.6-py311-none-any.whl (16 kB)\n",
            "Installing collected packages: frozendict\n",
            "  Attempting uninstall: frozendict\n",
            "    Found existing installation: frozendict 1.2\n",
            "    Uninstalling frozendict-1.2:\n",
            "      Successfully uninstalled frozendict-1.2\n",
            "\u001b[31mERROR: pip's dependency resolver does not currently take into account all the packages that are installed. This behaviour is the source of the following dependency conflicts.\n",
            "experta 1.9.4 requires frozendict==1.2, but you have frozendict 2.4.6 which is incompatible.\u001b[0m\u001b[31m\n",
            "\u001b[0mSuccessfully installed frozendict-2.4.6\n"
          ]
        }
      ],
      "source": [
        "!pip install --upgrade frozendict\n"
      ]
    },
    {
      "cell_type": "code",
      "source": [
        "!pip install experta\n"
      ],
      "metadata": {
        "colab": {
          "base_uri": "https://localhost:8080/"
        },
        "id": "HQ_t3VOn5hIh",
        "outputId": "32f16ad1-abfc-4c1d-ac00-559fab4b15cc"
      },
      "execution_count": 11,
      "outputs": [
        {
          "output_type": "stream",
          "name": "stdout",
          "text": [
            "Requirement already satisfied: experta in /usr/local/lib/python3.11/dist-packages (1.9.4)\n",
            "Requirement already satisfied: frozendict==1.2 in /usr/local/lib/python3.11/dist-packages (from experta) (1.2)\n",
            "Requirement already satisfied: schema==0.6.7 in /usr/local/lib/python3.11/dist-packages (from experta) (0.6.7)\n"
          ]
        }
      ]
    },
    {
      "cell_type": "code",
      "source": [
        "from experta import *\n",
        "\n",
        "class Diagnosis(KnowledgeEngine):\n",
        "\n",
        "    @Rule(Fact(cough=True) & Fact(fever=True) & Fact(fatigune=True))\n",
        "    def flu(self):\n",
        "      print(\"Diagnosis: you may have the flu.\")\n",
        "\n",
        "    @Rule(Fact(cough=True) & Fact(fever=True) & Fact(breathing_difficulty=True))\n",
        "    def pneumonia(self):\n",
        "      print(\"Diagnosis: You may have Pneoumonia.\")\n",
        "\n",
        "    @Rule(Fact(sneezing=True) & Fact(runny_nose=True) & Fact(cough=False))\n",
        "    def cold(self):\n",
        "      print(\"Diagnosis: You may have common cold.\")\n",
        "\n",
        "    @Rule(Fact(sore_throat=True) & Fact(fever=True))\n",
        "    def throat_infaction(self):\n",
        "      print(\"Diagnosis: You may have a Throat Infaction\")\n",
        "\n",
        "    @Rule(Fact(cough=True) & Fact(fever=False) & Fact(fatigune=False))\n",
        "    def healthy(self):\n",
        "      print(\"Diagnosis: You may have seem to be healthy.\")\n",
        "\n",
        "    # Added 4 new rules:\n",
        "\n",
        "    @Rule(Fact(fever=True) & Fact(fatigue=True) & Fact(joint_pain=True))\n",
        "    def dengue(self):\n",
        "      print(\"Diagnosis: You may have Dengue Fever.\")\n",
        "\n",
        "    @Rule(Fact(cough=True) & Fact(breathing_difficulty=True) & Fact(chest_tightness=True))\n",
        "    def asthma(self):\n",
        "      print(\"Diagnosis: You may have Asthma.\")\n",
        "\n",
        "    @Rule(Fact(sneezing=True) & Fact(runny_nose=True) & Fact(itchy_eyes=True))\n",
        "    def allergy(self):\n",
        "      print(\"Diagnosis: You may have an Allergy.\")\n",
        "\n",
        "    @Rule(Fact(fever=True) & Fact(cough=True) & Fact(loss_of_smell=True))\n",
        "    def covid19(self):\n",
        "      print(\"Diagnosis: You may have COVID-19.\")\n",
        "\n",
        "def get_input():\n",
        "    \"\"\"Helper funtion to get user as boolean (yes/no)\"\"\"\n",
        "    def ask_question(question):\n",
        "      return input(question + \" (yes/no): \").strip().lower() == \"yes\"\n",
        "\n",
        "    return{\n",
        "        \"cough\": ask_question(\"Do you have a cough?\"),\n",
        "        \"fever\": ask_question(\"Do you have a fever?\"),\n",
        "        \"fatigune\": ask_question(\"Do ypu feel Fatigune\"),\n",
        "        \"breathing_difficulty\": ask_question(\"Do you have breathing difficulty?\"),\n",
        "        \"sneezing\": ask_question(\"Are you sneezing?\"),\n",
        "        \"runny_nose\": ask_question(\"Do you have runny nose?\"),\n",
        "        \"sore_throat\": ask_question(\"Do you have a sore throat\"),\n",
        "        \"joint_pain\": ask_question(\"Do you have joint pain?\"),\n",
        "        \"chest_tightness\": ask_question(\"Do you feel chest tightness?\"),\n",
        "        \"itchy_eyes\": ask_question(\"Do you have itchy eyes?\"),\n",
        "        \"loss_of_smell\": ask_question(\"Have you lost your sense of smell?\")\n",
        "      }\n",
        "\n",
        "  #Running the Expert System\n",
        "if __name__==\"__main__\":\n",
        "    symptoms = get_input()\n",
        "    engine = Diagnosis()\n",
        "    engine.reset() # Reset the knowledge engine\n",
        "\n",
        "    for symptom, present in symptoms.items():\n",
        "      engine.declare(Fact(**{symptom: present}))# declare facts\n",
        "\n",
        "    engine.run() #run the infrance engine"
      ],
      "metadata": {
        "colab": {
          "base_uri": "https://localhost:8080/"
        },
        "id": "bLWjQ4Bo6J2e",
        "outputId": "a641c707-e932-4918-c26e-62e3c418eb4e"
      },
      "execution_count": 13,
      "outputs": [
        {
          "output_type": "stream",
          "name": "stdout",
          "text": [
            "Do you have a cough? (yes/no): yes\n",
            "Do you have a fever? (yes/no): yes\n",
            "Do ypu feel Fatigune (yes/no): no\n",
            "Do you have breathing difficulty? (yes/no): no\n",
            "Are you sneezing? (yes/no): no\n",
            "Do you have runny nose? (yes/no): no\n",
            "Do you have a sore throat (yes/no): no\n",
            "Do you have joint pain? (yes/no): no\n",
            "Do you feel chest tightness? (yes/no): no\n",
            "Do you have itchy eyes? (yes/no): no\n",
            "Have you lost your sense of smell? (yes/no): yes\n",
            "Diagnosis: You may have COVID-19.\n"
          ]
        }
      ]
    },
    {
      "cell_type": "code",
      "source": [
        "from experta import *\n",
        "\n",
        "class sistemPakarMedis(KnowledgeEngine):\n",
        "\n",
        "  @Rule(Fact(demam=True) & Fact(batuk=True))\n",
        "  def flu(self):\n",
        "    print(\"Diagnosis: Flu.\")\n",
        "\n",
        "  @Rule(Fact(sakit_tenggorokan=True) & Fact(demam=True))\n",
        "  def throat_infaction(self):\n",
        "    print(\"Diagnosis: Radang Tenggorokan.\")\n",
        "\n",
        "#Running the expert system\n",
        "engine = sistemPakarMedis()\n",
        "engine.reset()\n",
        "engine.declare(Fact(demam=True))\n",
        "engine.declare(Fact(batuk=True)) #input symptoms\n",
        "engine.run()"
      ],
      "metadata": {
        "colab": {
          "base_uri": "https://localhost:8080/"
        },
        "id": "is-jGE6zDOPs",
        "outputId": "f0687ca9-a997-4d8b-da11-242a6fc038a6"
      },
      "execution_count": null,
      "outputs": [
        {
          "output_type": "stream",
          "name": "stdout",
          "text": [
            "Diagnosis: Flu.\n"
          ]
        }
      ]
    },
    {
      "cell_type": "code",
      "source": [
        "def forward_chaining(facts, rules):\n",
        "  inferred = set(facts)\n",
        "  changed = True\n",
        "\n",
        "  while changed:\n",
        "    changed = False\n",
        "    for rule in rules:\n",
        "      if rule[\"if\"]. issubset(inferred) and rule[\"then\"] not in inferred:\n",
        "        changed = True\n",
        "  return inferred\n",
        "\n",
        "facts = {\"has_feathers\", \"cna_fly\", \"lays_eggs\"}\n",
        "rules =[\n",
        "    {\"if\": {\"has_feathers\", \"cna_fly\"}, \"then\": \"is_bird\"},\n",
        "    {\"if\": {\"lays_eggs, is_bird\"}, \"then\": \"is_chicken\"}\n",
        "]\n",
        "\n",
        "result = forward_chaining(facts, rules)\n",
        "print(\"Inferred facts: \", result)\n"
      ],
      "metadata": {
        "id": "lJ5hLULRRWU1"
      },
      "execution_count": null,
      "outputs": []
    },
    {
      "cell_type": "code",
      "source": [
        "def backward_chaining(goal, facts, rules):\n",
        "  if goal in facts:\n",
        "    return True\n",
        "  for rule in rules:\n",
        "    if rule[\"then\"] == goal:\n",
        "      if all(backward_chaining(cond, facts, rules) for cond in rule[\"if\"]):\n",
        "        return True\n",
        "  return False\n",
        "\n",
        "facts = {\"likes_computers\", \"solves_problems\"}\n",
        "rules = [\n",
        "    {\"if\": {\"likes_computers\", \"solves_problems\"}, \"then\": \"should_be_engineer\"},\n",
        "    {\"if\": {\"should_be_engineer\", \"likes_programming\"}, \"then\": \"software_engineer\"}\n",
        "]\n",
        "\n",
        "goal = \"software_engineer\"\n",
        "result = backward_chaining(goal, facts, rules)\n",
        "print(f\"Is '{goal} provable? -> \", result)"
      ],
      "metadata": {
        "id": "frccNgxSRYdF"
      },
      "execution_count": null,
      "outputs": []
    },
    {
      "cell_type": "markdown",
      "source": [
        "Soal Latihan Forward Chaining\n",
        "\n",
        "Facts: has_wheels, has_engine, has_four_wheels\n",
        "\n",
        "Rules:\n",
        "\n"
      ],
      "metadata": {
        "id": "t6RinyiCRZrA"
      }
    },
    {
      "cell_type": "markdown",
      "source": [
        "```\n",
        "if has_wheels and has_engine -> is_vehicle\n",
        "\n",
        "if is_vehicle and has_two_wheels -> is_motorcycle\n",
        "\n",
        "if is_vehicle and has_four_wheels -> is_car\n",
        "```\n"
      ],
      "metadata": {
        "id": "0o6tC55bRvS4"
      }
    },
    {
      "cell_type": "code",
      "source": [
        "def forward_chaining(facts, rules):\n",
        "  inferred = set(facts)\n",
        "  changed = True\n",
        "\n",
        "  while changed:\n",
        "    changed = False\n",
        "    for rule in rules:\n",
        "      if rule[\"if\"]. issubset(inferred) and rule[\"then\"] not in inferred:\n",
        "        changed = True\n",
        "  return inferred\n",
        "\n",
        "facts = {\"has_wheels\", \"has_engine\", \"has_four_wheels\"}\n",
        "rules =[\n",
        "    {\"if\": {\"has_wheels\", \"has_engine\"}, \"then\": \"is_vehicle\"},\n",
        "    {\"if\": {\"is_vehicle\", \"has_two_wheels\"}, \"then\": \"is_motorcycle\"},\n",
        "    {\"if\": {\"is_vehicle\", \"has_four_wheels\"}, \"then\": \"is_car\"}\n",
        "\n",
        "]\n",
        "\n",
        "result = forward_chaining(facts, rules)\n",
        "print(\"Inferred facts: \", result)"
      ],
      "metadata": {
        "id": "pINcHJbCSU9d"
      },
      "execution_count": null,
      "outputs": []
    },
    {
      "cell_type": "markdown",
      "source": [
        "Soal Latihan Backward Chaining\n",
        "\n",
        "Buatlah 3 variabel goal, facts, rules\n",
        "\n",
        "Goal: is_penguin\n",
        "\n",
        "Rules:\n",
        "```\n",
        "if is_bird and cannot_fly -> is_penguin\n",
        "\n",
        "if has_feathers -> is_bird\n",
        "\n",
        "if has_small_wings -> cannot_fly\n",
        "\n",
        "Facts: has_feathers, has_small_wings\n",
        "```"
      ],
      "metadata": {
        "id": "EkeJ2ZTrTNDw"
      }
    },
    {
      "cell_type": "code",
      "source": [
        "def backward_chaining(goal, facts, rules):\n",
        "  if goal in facts:\n",
        "    return True\n",
        "  for rule in rules:\n",
        "    if rule[\"then\"] == goal:\n",
        "      if all(backward_chaining(cond, facts, rules) for cond in rule[\"if\"]):\n",
        "        return True\n",
        "  return False\n",
        "\n",
        "facts = {\"has_feathers\", \"has_small_wings\"}\n",
        "rules =[\n",
        "    {\"if\": {\"is_bird\", \"cannot_fly\"}, \"then\": \"is_penguin\"},\n",
        "    {\"if\": {\"has_feathers\"}, \"then\": \"is_bird\"},\n",
        "    {\"if\": {\"has_small_wings\"}, \"then\": \"cannot_fly\"}\n",
        "\n",
        "]\n",
        "\n",
        "goal = \"is_penguin\"\n",
        "result = backward_chaining(goal, facts, rules)\n",
        "print(f\"Is '{goal} provable? -> \", result)"
      ],
      "metadata": {
        "id": "QRnqdA-xTQKE"
      },
      "execution_count": null,
      "outputs": []
    }
  ]
}